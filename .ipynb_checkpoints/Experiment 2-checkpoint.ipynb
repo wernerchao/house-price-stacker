{
 "cells": [
  {
   "cell_type": "code",
   "execution_count": 77,
   "metadata": {
    "collapsed": true
   },
   "outputs": [],
   "source": [
    "%matplotlib inline\n",
    "import numpy as np\n",
    "import pandas as pd\n",
    "\n",
    "import matplotlib.pyplot as plt\n",
    "import pylab\n",
    "import warnings\n",
    "warnings.filterwarnings(\"ignore\")\n",
    "\n",
    "from sklearn.metrics import mean_squared_error\n",
    "def remse(y_true, y_pred):\n",
    "    return np.sqrt(mean_squared_error(y_true, y_pred))"
   ]
  },
  {
   "cell_type": "code",
   "execution_count": 78,
   "metadata": {
    "collapsed": false
   },
   "outputs": [],
   "source": [
    "train = pd.read_csv('train.csv')\n",
    "test = pd.read_csv('test.csv')\n",
    "# Get all features from train & test set, take out the target variable\n",
    "all_data = pd.concat((train.loc[:,'MSSubClass':'SaleCondition'],\n",
    "                      test.loc[:,'MSSubClass':'SaleCondition']), ignore_index=True)\n"
   ]
  },
  {
   "cell_type": "code",
   "execution_count": 79,
   "metadata": {
    "collapsed": false,
    "scrolled": true
   },
   "outputs": [],
   "source": [
    "x = all_data.loc[all_data[\"LotFrontage\"].notnull(), \"LotArea\"]\n",
    "y = all_data.loc[all_data[\"LotFrontage\"].notnull(), \"LotFrontage\"]\n",
    "outlier_removed = (x <= 25000) & (y <= 150)\n",
    "slope_intercept = np.polyfit(x[outlier_removed], y[outlier_removed], 1)\n",
    "\n",
    "# Fill the missing values in LotFrontage using linear approximation to from LotArea\n",
    "all_data.loc[all_data['LotFrontage'].isnull(), 'LotFrontage'] = \\\n",
    "    np.polyval(slope_intercept, all_data.loc[all_data['LotFrontage'].isnull(), 'LotArea'])\n",
    "\n",
    "# _ = plt.scatter(all_data['LotArea'], all_data['LotFrontage'])\n",
    "# _ = plt.xlabel(\"LotArea\")\n",
    "# _ = plt.ylabel(\"LotFrontage\")"
   ]
  },
  {
   "cell_type": "code",
   "execution_count": 80,
   "metadata": {
    "collapsed": false
   },
   "outputs": [
    {
     "name": "stdout",
     "output_type": "stream",
     "text": [
      "Grvl\n",
      "None       1742\n",
      "BrkFace     879\n",
      "Stone       249\n",
      "BrkCmn       25\n",
      "Name: MasVnrType, dtype: int64\n",
      "24\n"
     ]
    }
   ],
   "source": [
    "temp = all_data.Alley.value_counts()\n",
    "\n",
    "print temp.index[0]\n",
    "print all_data['MasVnrType'].value_counts()\n",
    "\n",
    "def fill_null_with_most_common(data, col_name):\n",
    "    something = data[col_name].isnull().sum()\n",
    "    print something\n",
    "fill_null_with_most_common(all_data, 'MasVnrType')"
   ]
  },
  {
   "cell_type": "code",
   "execution_count": 105,
   "metadata": {
    "collapsed": false
   },
   "outputs": [],
   "source": [
    "def feature_process(process_func='None', most_frequent_func=False, median_func=False, col_name=[]):\n",
    "    for column in col_name:\n",
    "        if median_func:\n",
    "            process_func = all_data[column].median()\n",
    "        if most_frequent_func:\n",
    "            process_func = all_data[column].value_counts().index.values[0]\n",
    "        all_data.loc[all_data[column].isnull(), column] = process_func"
   ]
  },
  {
   "cell_type": "code",
   "execution_count": 145,
   "metadata": {
    "collapsed": false
   },
   "outputs": [],
   "source": [
    "# Replace missing values with 'None'\n",
    "feature_process(col_name=['Alley', 'BsmtQual', 'BsmtCond', 'BsmtExposure', \\\n",
    "                          'BsmtFinType1', 'BsmtFinType2', 'MasVnrType', 'MiscFeature', \\\n",
    "                         'FireplaceQu', 'GarageType', 'GarageFinish', 'GarageQual', \\\n",
    "                         'GarageCond', 'PoolQC', 'Fence'])\n",
    "# Replace missing values with '0'\n",
    "feature_process(process_func=0, col_name=['MasVnrArea', 'BsmtFinSF1', 'BsmtFinSF2', 'BsmtUnfSF', \\\n",
    "                'TotalBsmtSF', 'BsmtFullBath', 'BsmtHalfBath', ])\n",
    "# Replace with 'median'\n",
    "feature_process(median_func=True, col_name=['BsmtFinSF1', 'BsmtUnfSF'])\n",
    "# Replace with most frequent value in the column\n",
    "feature_process(most_frequent_func=True, col_name=['KitchenQual', 'MSZoning', 'Utilities', \\\n",
    "                                                   'Exterior1st', 'Exterior2nd', 'Functional', \\\n",
    "                                                   'SaleCondition', 'SaleType', 'Electrical'])"
   ]
  },
  {
   "cell_type": "code",
   "execution_count": 147,
   "metadata": {
    "collapsed": false
   },
   "outputs": [],
   "source": [
    "# Replace with mean() & median() from detached type garage\n",
    "all_data.loc[all_data['GarageArea'].isnull(), 'GarageArea'] = \\\n",
    "                    all_data.loc[all_data['GarageType']=='Detchd', 'GarageArea'].mean()\n",
    "all_data.loc[all_data['GarageCars'].isnull(), 'GarageCars'] = \\\n",
    "                    all_data.loc[all_data['GarageType']=='Detchd', 'GarageCars'].median()"
   ]
  },
  {
   "cell_type": "code",
   "execution_count": 166,
   "metadata": {
    "collapsed": false
   },
   "outputs": [
    {
     "name": "stdout",
     "output_type": "stream",
     "text": [
      "0    60\n",
      "1    20\n",
      "2    60\n",
      "3    70\n",
      "Name: MSSubClass, dtype: int64\n",
      "0    1\n",
      "1    1\n",
      "2    1\n",
      "3    0\n",
      "Name: newer_dwelling, dtype: int64\n"
     ]
    }
   ],
   "source": [
    "# Make a new feature, newer_dwelling, and weight 20, 60, 120 more important by giving them 1, while others 0\n",
    "MSSubClass_vals = np.sort(all_data['MSSubClass'].value_counts().index.values)\n",
    "newer_dwelling = all_data['MSSubClass']\n",
    "\n",
    "for val in MSSubClass_vals:\n",
    "    if val==20 or val==60 or val==120:\n",
    "        newer_dwelling = newer_dwelling.replace({val: 1})\n",
    "    else:\n",
    "        newer_dwelling = newer_dwelling.replace({val: 0})\n",
    "\n",
    "newer_dwelling.name = 'newer_dwelling'\n",
    "print all_data['MSSubClass'].head(4)\n",
    "print newer_dwelling.head(4)"
   ]
  },
  {
   "cell_type": "code",
   "execution_count": null,
   "metadata": {
    "collapsed": true
   },
   "outputs": [],
   "source": [
    "newer_dwelling = all_data.MSSubClass.replace({20: 1, \n",
    "                                            30: 0, \n",
    "                                            40: 0, \n",
    "                                            45: 0,\n",
    "                                            50: 0, \n",
    "                                            60: 1,\n",
    "                                            70: 0,\n",
    "                                            75: 0,\n",
    "                                            80: 0,\n",
    "                                            85: 0,\n",
    "                                            90: 0,\n",
    "                                           120: 1,\n",
    "                                           150: 0,\n",
    "                                           160: 0,\n",
    "                                           180: 0,\n",
    "                                           190: 0})"
   ]
  },
  {
   "cell_type": "code",
   "execution_count": 170,
   "metadata": {
    "collapsed": false
   },
   "outputs": [],
   "source": [
    "# Good quality -> rise price. Poor quality -> reduce price\n",
    "overall_poor_qu = all_data.OverallQual.copy()\n",
    "overall_poor_qu = 5 - overall_poor_qu\n",
    "overall_poor_qu[overall_poor_qu<0] = 0\n",
    "overall_poor_qu.name = 'overall_poor_qu'\n",
    "\n",
    "overall_good_qu = all_data.OverallQual.copy()\n",
    "overall_good_qu = overall_good_qu - 5\n",
    "overall_good_qu[overall_good_qu<0] = 0\n",
    "overall_good_qu.name = 'overall_good_qu'\n",
    "\n",
    "overall_poor_cond = all_data.OverallCond.copy()\n",
    "overall_poor_cond = 5 - overall_poor_cond\n",
    "overall_poor_cond[overall_poor_cond<0] = 0\n",
    "overall_poor_cond.name = 'overall_poor_cond'\n",
    "\n",
    "overall_good_cond = all_data.OverallCond.copy()\n",
    "overall_good_cond = overall_good_cond - 5\n",
    "overall_good_cond[overall_good_cond<0] = 0\n",
    "overall_good_cond.name = 'overall_good_cond'\n",
    "\n",
    "exter_poor_qu = all_data.ExterQual.copy()\n",
    "exter_poor_qu[exter_poor_qu<3] = 1\n",
    "exter_poor_qu[exter_poor_qu>=3] = 0\n",
    "exter_poor_qu.name = 'exter_poor_qu'\n",
    "\n",
    "exter_good_qu = all_data.ExterQual.copy()\n",
    "exter_good_qu[exter_good_qu<=3] = 0\n",
    "exter_good_qu[exter_good_qu>3] = 1\n",
    "exter_good_qu.name = 'exter_good_qu'\n",
    "\n",
    "exter_poor_cond = all_data.ExterCond.copy()\n",
    "exter_poor_cond[exter_poor_cond<3] = 1\n",
    "exter_poor_cond[exter_poor_cond>=3] = 0\n",
    "exter_poor_cond.name = 'exter_poor_cond'\n",
    "\n",
    "exter_good_cond = all_data.ExterCond.copy()\n",
    "exter_good_cond[exter_good_cond<=3] = 0\n",
    "exter_good_cond[exter_good_cond>3] = 1\n",
    "exter_good_cond.name = 'exter_good_cond'\n",
    "\n",
    "bsmt_poor_cond = all_data.BsmtCond.copy()\n",
    "bsmt_poor_cond[bsmt_poor_cond<3] = 1\n",
    "bsmt_poor_cond[bsmt_poor_cond>=3] = 0\n",
    "bsmt_poor_cond.name = 'bsmt_poor_cond'\n",
    "\n",
    "bsmt_good_cond = all_data.BsmtCond.copy()\n",
    "bsmt_good_cond[bsmt_good_cond<=3] = 0\n",
    "bsmt_good_cond[bsmt_good_cond>3] = 1\n",
    "bsmt_good_cond.name = 'bsmt_good_cond'\n",
    "\n",
    "garage_poor_qu = all_data.GarageQual.copy()\n",
    "garage_poor_qu[garage_poor_qu<3] = 1\n",
    "garage_poor_qu[garage_poor_qu>=3] = 0\n",
    "garage_poor_qu.name = 'garage_poor_qu'\n",
    "\n",
    "garage_good_qu = all_data.GarageQual.copy()\n",
    "garage_good_qu[garage_good_qu<=3] = 0\n",
    "garage_good_qu[garage_good_qu>3] = 1\n",
    "garage_good_qu.name = 'garage_good_qu'\n",
    "\n",
    "garage_poor_cond = all_data.GarageCond.copy()\n",
    "garage_poor_cond[garage_poor_cond<3] = 1\n",
    "garage_poor_cond[garage_poor_cond>=3] = 0\n",
    "garage_poor_cond.name = 'garage_poor_cond'\n",
    "\n",
    "garage_good_cond = all_data.GarageCond.copy()\n",
    "garage_good_cond[garage_good_cond<=3] = 0\n",
    "garage_good_cond[garage_good_cond>3] = 1\n",
    "garage_good_cond.name = 'garage_good_cond'\n",
    "\n",
    "kitchen_poor_qu = all_data.KitchenQual.copy()\n",
    "kitchen_poor_qu[kitchen_poor_qu<3] = 1\n",
    "kitchen_poor_qu[kitchen_poor_qu>=3] = 0\n",
    "kitchen_poor_qu.name = 'kitchen_poor_qu'\n",
    "\n",
    "kitchen_good_qu = all_data.KitchenQual.copy()\n",
    "kitchen_good_qu[kitchen_good_qu<=3] = 0\n",
    "kitchen_good_qu[kitchen_good_qu>3] = 1\n",
    "kitchen_good_qu.name = 'kitchen_good_qu'\n",
    "\n",
    "qu_list = pd.concat((overall_poor_qu, overall_good_qu, overall_poor_cond, overall_good_cond, exter_poor_qu,\n",
    "                     exter_good_qu, exter_poor_cond, exter_good_cond, bsmt_poor_cond, bsmt_good_cond, garage_poor_qu,\n",
    "                     garage_good_qu, garage_poor_cond, garage_good_cond, kitchen_poor_qu, kitchen_good_qu), axis=1)"
   ]
  },
  {
   "cell_type": "code",
   "execution_count": 190,
   "metadata": {
    "collapsed": false
   },
   "outputs": [
    {
     "name": "stdout",
     "output_type": "stream",
     "text": [
      "    Neighborhood_Good\n",
      "0                 0.0\n",
      "1                 0.0\n",
      "2                 0.0\n",
      "3                 1.0\n",
      "4                 1.0\n",
      "5                 0.0\n",
      "6                 1.0\n",
      "7                 0.0\n",
      "8                 0.0\n",
      "9                 0.0\n",
      "10                0.0\n",
      "11                1.0\n",
      "12                0.0\n",
      "13                0.0\n",
      "14                0.0\n",
      "15                0.0\n",
      "16                0.0\n",
      "17                0.0\n",
      "18                0.0\n",
      "19                0.0\n"
     ]
    }
   ],
   "source": [
    "bad_heating = all_data.HeatingQC.replace({'Ex': 0, \n",
    "                                          'Gd': 0, \n",
    "                                          'TA': 0, \n",
    "                                          'Fa': 1,\n",
    "                                          'Po': 1})\n",
    "bad_heating.name = 'bad_heating'\n",
    "                                          \n",
    "MasVnrType_Any = all_data.MasVnrType.replace({'BrkCmn': 1,\n",
    "                                              'BrkFace': 1,\n",
    "                                              'CBlock': 1,\n",
    "                                              'Stone': 1,\n",
    "                                              'None': 0})\n",
    "MasVnrType_Any.name = 'MasVnrType_Any'\n",
    "\n",
    "SaleCondition_PriceDown = all_data.SaleCondition.replace({'Abnorml': 1,\n",
    "                                                          'Alloca': 1,\n",
    "                                                          'AdjLand': 1,\n",
    "                                                          'Family': 1,\n",
    "                                                          'Normal': 0,\n",
    "                                                          'Partial': 0})\n",
    "SaleCondition_PriceDown.name = 'SaleCondition_PriceDown'\n",
    "\n",
    "Neighborhood_Good = pd.DataFrame(np.zeros((all_data.shape[0],1)), columns=['Neighborhood_Good'])\n",
    "good = ['NridgHt', 'Crawfor', 'StoneBr', 'Somerst', 'NoRidge']\n",
    "for item in good:\n",
    "    Neighborhood_Good[all_data.Neighborhood==item] = 1"
   ]
  },
  {
   "cell_type": "code",
   "execution_count": null,
   "metadata": {
    "collapsed": true
   },
   "outputs": [],
   "source": []
  }
 ],
 "metadata": {
  "kernelspec": {
   "display_name": "Python 2",
   "language": "python",
   "name": "python2"
  },
  "language_info": {
   "codemirror_mode": {
    "name": "ipython",
    "version": 2
   },
   "file_extension": ".py",
   "mimetype": "text/x-python",
   "name": "python",
   "nbconvert_exporter": "python",
   "pygments_lexer": "ipython2",
   "version": "2.7.10"
  }
 },
 "nbformat": 4,
 "nbformat_minor": 2
}
