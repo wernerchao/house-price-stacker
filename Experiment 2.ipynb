{
 "cells": [
  {
   "cell_type": "code",
   "execution_count": 9,
   "metadata": {
    "collapsed": true
   },
   "outputs": [],
   "source": [
    "%matplotlib inline\n",
    "import numpy as np\n",
    "import pandas as pd\n",
    "\n",
    "import matplotlib.pyplot as plt\n",
    "import pylab\n",
    "import warnings\n",
    "warnings.filterwarnings(\"ignore\")\n",
    "\n",
    "from sklearn.metrics import mean_squared_error\n",
    "def remse(y_true, y_pred):\n",
    "    return np.sqrt(mean_squared_error(y_true, y_pred))"
   ]
  },
  {
   "cell_type": "code",
   "execution_count": 10,
   "metadata": {
    "collapsed": false
   },
   "outputs": [],
   "source": [
    "train = pd.read_csv('train.csv')\n",
    "test = pd.read_csv('test.csv')\n",
    "# Get all features from train & test set, take out the target variable\n",
    "all_data = pd.concat((train.loc[:,'MSSubClass':'SaleCondition'],\n",
    "                      test.loc[:,'MSSubClass':'SaleCondition']), ignore_index=True)\n"
   ]
  },
  {
   "cell_type": "code",
   "execution_count": 11,
   "metadata": {
    "collapsed": false,
    "scrolled": true
   },
   "outputs": [],
   "source": [
    "x = all_data.loc[all_data[\"LotFrontage\"].notnull(), \"LotArea\"]\n",
    "y = all_data.loc[all_data[\"LotFrontage\"].notnull(), \"LotFrontage\"]\n",
    "outlier_removed = (x <= 25000) & (y <= 150)\n",
    "slope_intercept = np.polyfit(x[outlier_removed], y[outlier_removed], 1)\n",
    "\n",
    "# Fill the missing values in LotFrontage using linear approximation to from LotArea\n",
    "all_data.loc[all_data['LotFrontage'].isnull(), 'LotFrontage'] = \\\n",
    "    np.polyval(slope_intercept, all_data.loc[all_data['LotFrontage'].isnull(), 'LotArea'])\n",
    "\n",
    "# _ = plt.scatter(all_data['LotArea'], all_data['LotFrontage'])\n",
    "# _ = plt.xlabel(\"LotArea\")\n",
    "# _ = plt.ylabel(\"LotFrontage\")"
   ]
  },
  {
   "cell_type": "code",
   "execution_count": 12,
   "metadata": {
    "collapsed": false
   },
   "outputs": [
    {
     "name": "stdout",
     "output_type": "stream",
     "text": [
      "Grvl\n",
      "None       1742\n",
      "BrkFace     879\n",
      "Stone       249\n",
      "BrkCmn       25\n",
      "Name: MasVnrType, dtype: int64\n",
      "24\n"
     ]
    }
   ],
   "source": [
    "temp = all_data.Alley.value_counts()\n",
    "\n",
    "print temp.index[0]\n",
    "print all_data['MasVnrType'].value_counts()\n",
    "\n",
    "def fill_null_with_most_common(data, col_name):\n",
    "    something = data[col_name].isnull().sum()\n",
    "    print something\n",
    "fill_null_with_most_common(all_data, 'MasVnrType')"
   ]
  },
  {
   "cell_type": "code",
   "execution_count": 13,
   "metadata": {
    "collapsed": false
   },
   "outputs": [],
   "source": [
    "def feature_process(process_func='None', most_frequent_func=False, median_func=False, col_name=[]):\n",
    "    for column in col_name:\n",
    "        if median_func:\n",
    "            process_func = all_data[column].median()\n",
    "        if most_frequent_func:\n",
    "            process_func = all_data[column].value_counts().index.values[0]\n",
    "        all_data.loc[all_data[column].isnull(), column] = process_func"
   ]
  },
  {
   "cell_type": "code",
   "execution_count": 14,
   "metadata": {
    "collapsed": false
   },
   "outputs": [],
   "source": [
    "# Replace missing values with 'None'\n",
    "feature_process(col_name=['Alley', 'BsmtQual', 'BsmtCond', 'BsmtExposure', \\\n",
    "                          'BsmtFinType1', 'BsmtFinType2', 'MasVnrType', 'MiscFeature', \\\n",
    "                         'FireplaceQu', 'GarageType', 'GarageFinish', 'GarageQual', \\\n",
    "                         'GarageCond', 'PoolQC', 'Fence'])\n",
    "# Replace missing values with '0'\n",
    "feature_process(process_func=0, col_name=['MasVnrArea', 'BsmtFinSF1', 'BsmtFinSF2', 'BsmtUnfSF', \\\n",
    "                'TotalBsmtSF', 'BsmtFullBath', 'BsmtHalfBath', ])\n",
    "# Replace with 'median'\n",
    "feature_process(median_func=True, col_name=['BsmtFinSF1', 'BsmtUnfSF'])\n",
    "# Replace with most frequent value in the column\n",
    "feature_process(most_frequent_func=True, col_name=['KitchenQual', 'MSZoning', 'Utilities', \\\n",
    "                                                   'Exterior1st', 'Exterior2nd', 'Functional', \\\n",
    "                                                   'SaleCondition', 'SaleType', 'Electrical'])"
   ]
  },
  {
   "cell_type": "code",
   "execution_count": 15,
   "metadata": {
    "collapsed": false
   },
   "outputs": [],
   "source": [
    "# Replace with mean() & median() from detached type garage\n",
    "all_data.loc[all_data['GarageArea'].isnull(), 'GarageArea'] = \\\n",
    "                    all_data.loc[all_data['GarageType']=='Detchd', 'GarageArea'].mean()\n",
    "all_data.loc[all_data['GarageCars'].isnull(), 'GarageCars'] = \\\n",
    "                    all_data.loc[all_data['GarageType']=='Detchd', 'GarageCars'].median()"
   ]
  },
  {
   "cell_type": "code",
   "execution_count": 16,
   "metadata": {
    "collapsed": false
   },
   "outputs": [
    {
     "name": "stdout",
     "output_type": "stream",
     "text": [
      "0    60\n",
      "1    20\n",
      "2    60\n",
      "3    70\n",
      "Name: MSSubClass, dtype: int64\n",
      "0    1\n",
      "1    1\n",
      "2    1\n",
      "3    0\n",
      "Name: newer_dwelling, dtype: int64\n"
     ]
    }
   ],
   "source": [
    "# Make a new feature, newer_dwelling, and weight 20, 60, 120 more important by giving them 1, while others 0\n",
    "MSSubClass_vals = np.sort(all_data['MSSubClass'].value_counts().index.values)\n",
    "newer_dwelling = all_data['MSSubClass']\n",
    "\n",
    "for val in MSSubClass_vals:\n",
    "    if val==20 or val==60 or val==120:\n",
    "        newer_dwelling = newer_dwelling.replace({val: 1})\n",
    "    else:\n",
    "        newer_dwelling = newer_dwelling.replace({val: 0})\n",
    "\n",
    "newer_dwelling.name = 'newer_dwelling'\n",
    "print all_data['MSSubClass'].head(4)\n",
    "print newer_dwelling.head(4)"
   ]
  },
  {
   "cell_type": "code",
   "execution_count": 40,
   "metadata": {
    "collapsed": false
   },
   "outputs": [
    {
     "name": "stdout",
     "output_type": "stream",
     "text": [
      "2914    1\n",
      "2915    1\n",
      "2916    0\n",
      "2917    0\n",
      "2918    0\n",
      "Name: overall_poor_qu, dtype: int64\n",
      "2914    0\n",
      "2915    0\n",
      "2916    0\n",
      "2917    0\n",
      "2918    2\n",
      "Name: overall_good_qu, dtype: int64\n"
     ]
    }
   ],
   "source": [
    "overall_poor_qu = all_data.OverallQual.copy()\n",
    "overall_poor_qu = 5 - overall_poor_qu\n",
    "overall_poor_qu[overall_poor_qu<0] = 0\n",
    "overall_poor_qu.name = 'overall_poor_qu'\n",
    "print overall_poor_qu.tail()\n",
    "\n",
    "overall_good_qu = all_data.OverallQual.copy()\n",
    "overall_good_qu = overall_good_qu - 5\n",
    "overall_good_qu[overall_good_qu<0] = 0\n",
    "overall_good_qu.name = 'overall_good_qu'\n",
    "print overall_good_qu.tail()"
   ]
  },
  {
   "cell_type": "code",
   "execution_count": 46,
   "metadata": {
    "collapsed": true
   },
   "outputs": [],
   "source": [
    "def qualify_features(norm_val, col_name):\n",
    "    copy = all_data[col_name].copy()\n",
    "    good = copy - norm_val\n",
    "    good[good  < 0] = 0\n",
    "    good.name = col_name + '_good'\n",
    "\n",
    "    poor = norm_val - copy\n",
    "    poor[poor < 0] = 0\n",
    "    poor.name = col_name + '_poor'\n",
    "    \n",
    "    return good, poor"
   ]
  },
  {
   "cell_type": "code",
   "execution_count": 45,
   "metadata": {
    "collapsed": false
   },
   "outputs": [
    {
     "ename": "TypeError",
     "evalue": "unsupported operand type(s) for -: 'str' and 'int'",
     "output_type": "error",
     "traceback": [
      "\u001b[0;31m---------------------------------------------------------------------------\u001b[0m",
      "\u001b[0;31mTypeError\u001b[0m                                 Traceback (most recent call last)",
      "\u001b[0;32m<ipython-input-45-5cd875fd4dd7>\u001b[0m in \u001b[0;36m<module>\u001b[0;34m()\u001b[0m\n\u001b[1;32m      2\u001b[0m \u001b[0mOverallCond_good\u001b[0m\u001b[0;34m,\u001b[0m \u001b[0mOverallCond_poor\u001b[0m \u001b[0;34m=\u001b[0m \u001b[0mqualify_features\u001b[0m\u001b[0;34m(\u001b[0m\u001b[0;36m5\u001b[0m\u001b[0;34m,\u001b[0m \u001b[0;34m'OverallCond'\u001b[0m\u001b[0;34m)\u001b[0m\u001b[0;34m\u001b[0m\u001b[0m\n\u001b[1;32m      3\u001b[0m \u001b[0;34m\u001b[0m\u001b[0m\n\u001b[0;32m----> 4\u001b[0;31m \u001b[0mExterQual_good\u001b[0m\u001b[0;34m,\u001b[0m \u001b[0mExterQual_poor\u001b[0m \u001b[0;34m=\u001b[0m \u001b[0mqualify_features\u001b[0m\u001b[0;34m(\u001b[0m\u001b[0;36m5\u001b[0m\u001b[0;34m,\u001b[0m \u001b[0;34m'ExterQual'\u001b[0m\u001b[0;34m)\u001b[0m\u001b[0;34m\u001b[0m\u001b[0m\n\u001b[0m\u001b[1;32m      5\u001b[0m \u001b[0mExterCond_good\u001b[0m\u001b[0;34m,\u001b[0m \u001b[0mExterCond_poor\u001b[0m \u001b[0;34m=\u001b[0m \u001b[0mqualify_features\u001b[0m\u001b[0;34m(\u001b[0m\u001b[0;36m5\u001b[0m\u001b[0;34m,\u001b[0m \u001b[0;34m'ExterCond'\u001b[0m\u001b[0;34m)\u001b[0m\u001b[0;34m\u001b[0m\u001b[0m\n\u001b[1;32m      6\u001b[0m \u001b[0;34m\u001b[0m\u001b[0m\n",
      "\u001b[0;32m<ipython-input-41-d15ace04888b>\u001b[0m in \u001b[0;36mqualify_features\u001b[0;34m(norm_val, col_name)\u001b[0m\n\u001b[1;32m      1\u001b[0m \u001b[0;32mdef\u001b[0m \u001b[0mqualify_features\u001b[0m\u001b[0;34m(\u001b[0m\u001b[0mnorm_val\u001b[0m\u001b[0;34m,\u001b[0m \u001b[0mcol_name\u001b[0m\u001b[0;34m)\u001b[0m\u001b[0;34m:\u001b[0m\u001b[0;34m\u001b[0m\u001b[0m\n\u001b[1;32m      2\u001b[0m     \u001b[0mcopy\u001b[0m \u001b[0;34m=\u001b[0m \u001b[0mall_data\u001b[0m\u001b[0;34m[\u001b[0m\u001b[0mcol_name\u001b[0m\u001b[0;34m]\u001b[0m\u001b[0;34m.\u001b[0m\u001b[0mcopy\u001b[0m\u001b[0;34m(\u001b[0m\u001b[0;34m)\u001b[0m\u001b[0;34m\u001b[0m\u001b[0m\n\u001b[0;32m----> 3\u001b[0;31m     \u001b[0mgood\u001b[0m \u001b[0;34m=\u001b[0m \u001b[0mcopy\u001b[0m \u001b[0;34m-\u001b[0m \u001b[0mnorm_val\u001b[0m\u001b[0;34m\u001b[0m\u001b[0m\n\u001b[0m\u001b[1;32m      4\u001b[0m     \u001b[0mgood\u001b[0m\u001b[0;34m[\u001b[0m\u001b[0mgood\u001b[0m  \u001b[0;34m<\u001b[0m \u001b[0;36m0\u001b[0m\u001b[0;34m]\u001b[0m \u001b[0;34m=\u001b[0m \u001b[0;36m0\u001b[0m\u001b[0;34m\u001b[0m\u001b[0m\n\u001b[1;32m      5\u001b[0m     \u001b[0mgood\u001b[0m\u001b[0;34m.\u001b[0m\u001b[0mname\u001b[0m \u001b[0;34m=\u001b[0m \u001b[0mcol_name\u001b[0m \u001b[0;34m+\u001b[0m \u001b[0;34m'_good'\u001b[0m\u001b[0;34m\u001b[0m\u001b[0m\n",
      "\u001b[0;32m/Library/Python/2.7/site-packages/pandas/core/ops.pyc\u001b[0m in \u001b[0;36mwrapper\u001b[0;34m(left, right, name, na_op)\u001b[0m\n\u001b[1;32m    713\u001b[0m                 \u001b[0mlvalues\u001b[0m \u001b[0;34m=\u001b[0m \u001b[0mlvalues\u001b[0m\u001b[0;34m.\u001b[0m\u001b[0mvalues\u001b[0m\u001b[0;34m\u001b[0m\u001b[0m\n\u001b[1;32m    714\u001b[0m \u001b[0;34m\u001b[0m\u001b[0m\n\u001b[0;32m--> 715\u001b[0;31m         \u001b[0mresult\u001b[0m \u001b[0;34m=\u001b[0m \u001b[0mwrap_results\u001b[0m\u001b[0;34m(\u001b[0m\u001b[0msafe_na_op\u001b[0m\u001b[0;34m(\u001b[0m\u001b[0mlvalues\u001b[0m\u001b[0;34m,\u001b[0m \u001b[0mrvalues\u001b[0m\u001b[0;34m)\u001b[0m\u001b[0;34m)\u001b[0m\u001b[0;34m\u001b[0m\u001b[0m\n\u001b[0m\u001b[1;32m    716\u001b[0m         return construct_result(\n\u001b[1;32m    717\u001b[0m             \u001b[0mleft\u001b[0m\u001b[0;34m,\u001b[0m\u001b[0;34m\u001b[0m\u001b[0m\n",
      "\u001b[0;32m/Library/Python/2.7/site-packages/pandas/core/ops.pyc\u001b[0m in \u001b[0;36msafe_na_op\u001b[0;34m(lvalues, rvalues)\u001b[0m\n\u001b[1;32m    684\u001b[0m                 \u001b[0;32mif\u001b[0m \u001b[0mis_object_dtype\u001b[0m\u001b[0;34m(\u001b[0m\u001b[0mlvalues\u001b[0m\u001b[0;34m)\u001b[0m\u001b[0;34m:\u001b[0m\u001b[0;34m\u001b[0m\u001b[0m\n\u001b[1;32m    685\u001b[0m                     return _algos.arrmap_object(lvalues,\n\u001b[0;32m--> 686\u001b[0;31m                                                 lambda x: op(x, rvalues))\n\u001b[0m\u001b[1;32m    687\u001b[0m             \u001b[0;32mraise\u001b[0m\u001b[0;34m\u001b[0m\u001b[0m\n\u001b[1;32m    688\u001b[0m \u001b[0;34m\u001b[0m\u001b[0m\n",
      "\u001b[0;32mpandas/src/algos_common_helper.pxi\u001b[0m in \u001b[0;36mpandas.algos.arrmap_object (pandas/algos.c:46672)\u001b[0;34m()\u001b[0m\n",
      "\u001b[0;32m/Library/Python/2.7/site-packages/pandas/core/ops.pyc\u001b[0m in \u001b[0;36m<lambda>\u001b[0;34m(x)\u001b[0m\n\u001b[1;32m    684\u001b[0m                 \u001b[0;32mif\u001b[0m \u001b[0mis_object_dtype\u001b[0m\u001b[0;34m(\u001b[0m\u001b[0mlvalues\u001b[0m\u001b[0;34m)\u001b[0m\u001b[0;34m:\u001b[0m\u001b[0;34m\u001b[0m\u001b[0m\n\u001b[1;32m    685\u001b[0m                     return _algos.arrmap_object(lvalues,\n\u001b[0;32m--> 686\u001b[0;31m                                                 lambda x: op(x, rvalues))\n\u001b[0m\u001b[1;32m    687\u001b[0m             \u001b[0;32mraise\u001b[0m\u001b[0;34m\u001b[0m\u001b[0m\n\u001b[1;32m    688\u001b[0m \u001b[0;34m\u001b[0m\u001b[0m\n",
      "\u001b[0;31mTypeError\u001b[0m: unsupported operand type(s) for -: 'str' and 'int'"
     ]
    }
   ],
   "source": [
    "OverallQual_good, OverallQual_poor = qualify_features(5, 'OverallQual')\n",
    "OverallCond_good, OverallCond_poor = qualify_features(5, 'OverallCond')\n",
    "\n",
    "ExterQual_good, ExterQual_poor = qualify_features(3, 'ExterQual')\n",
    "ExterCond_good, ExterCond_poor = qualify_features(3, 'ExterCond')\n",
    "\n",
    "BsmtCond_good, BsmtCond_poor = qualify_features(3, 'BsmtCond')\n",
    "\n",
    "GarageQual_good, GarageQual_poor = qualify_features(5, 'GarageQual')\n",
    "GarageCond_good, GarageCond_poor = qualify_features(5, 'GarageCond')\n",
    "\n",
    "KitchenQual_good, KitchenQual_poor = qualify_features(5, 'KitchenQual')\n",
    "\n",
    "qu_list = pd.concat((OverallQual_good, OverallQual_poor, ExterQual_good, ExterQual_poor, \\\n",
    "                    BsmtCond_good, BsmtCond_poor, GarageQual_good, GarageQual_poor, \\\n",
    "                    GarageCond_good, GarageCond_poor, KitchenQual_good, KitchenQual_poor), axis=1)"
   ]
  },
  {
   "cell_type": "code",
   "execution_count": 170,
   "metadata": {
    "collapsed": false
   },
   "outputs": [],
   "source": [
    "# Good quality -> rise price. Poor quality -> reduce price\n",
    "qu_list = pd.concat((overall_poor_qu, overall_good_qu, overall_poor_cond, overall_good_cond, exter_poor_qu,\n",
    "                     exter_good_qu, exter_poor_cond, exter_good_cond, bsmt_poor_cond, bsmt_good_cond, garage_poor_qu,\n",
    "                     garage_good_qu, garage_poor_cond, garage_good_cond, kitchen_poor_qu, kitchen_good_qu), axis=1)"
   ]
  },
  {
   "cell_type": "code",
   "execution_count": 190,
   "metadata": {
    "collapsed": false
   },
   "outputs": [
    {
     "name": "stdout",
     "output_type": "stream",
     "text": [
      "    Neighborhood_Good\n",
      "0                 0.0\n",
      "1                 0.0\n",
      "2                 0.0\n",
      "3                 1.0\n",
      "4                 1.0\n",
      "5                 0.0\n",
      "6                 1.0\n",
      "7                 0.0\n",
      "8                 0.0\n",
      "9                 0.0\n",
      "10                0.0\n",
      "11                1.0\n",
      "12                0.0\n",
      "13                0.0\n",
      "14                0.0\n",
      "15                0.0\n",
      "16                0.0\n",
      "17                0.0\n",
      "18                0.0\n",
      "19                0.0\n"
     ]
    }
   ],
   "source": [
    "bad_heating = all_data.HeatingQC.replace({'Ex': 0, \n",
    "                                          'Gd': 0, \n",
    "                                          'TA': 0, \n",
    "                                          'Fa': 1,\n",
    "                                          'Po': 1})\n",
    "bad_heating.name = 'bad_heating'\n",
    "                                          \n",
    "MasVnrType_Any = all_data.MasVnrType.replace({'BrkCmn': 1,\n",
    "                                              'BrkFace': 1,\n",
    "                                              'CBlock': 1,\n",
    "                                              'Stone': 1,\n",
    "                                              'None': 0})\n",
    "MasVnrType_Any.name = 'MasVnrType_Any'\n",
    "\n",
    "SaleCondition_PriceDown = all_data.SaleCondition.replace({'Abnorml': 1,\n",
    "                                                          'Alloca': 1,\n",
    "                                                          'AdjLand': 1,\n",
    "                                                          'Family': 1,\n",
    "                                                          'Normal': 0,\n",
    "                                                          'Partial': 0})\n",
    "SaleCondition_PriceDown.name = 'SaleCondition_PriceDown'\n",
    "\n",
    "Neighborhood_Good = pd.DataFrame(np.zeros((all_data.shape[0],1)), columns=['Neighborhood_Good'])\n",
    "good = ['NridgHt', 'Crawfor', 'StoneBr', 'Somerst', 'NoRidge']\n",
    "for item in good:\n",
    "    Neighborhood_Good[all_data.Neighborhood==item] = 1"
   ]
  },
  {
   "cell_type": "code",
   "execution_count": null,
   "metadata": {
    "collapsed": true
   },
   "outputs": [],
   "source": []
  }
 ],
 "metadata": {
  "kernelspec": {
   "display_name": "Python 2",
   "language": "python",
   "name": "python2"
  },
  "language_info": {
   "codemirror_mode": {
    "name": "ipython",
    "version": 2
   },
   "file_extension": ".py",
   "mimetype": "text/x-python",
   "name": "python",
   "nbconvert_exporter": "python",
   "pygments_lexer": "ipython2",
   "version": "2.7.10"
  }
 },
 "nbformat": 4,
 "nbformat_minor": 2
}
