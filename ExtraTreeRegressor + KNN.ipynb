{
 "cells": [
  {
   "cell_type": "code",
   "execution_count": 1,
   "metadata": {
    "collapsed": false
   },
   "outputs": [
    {
     "name": "stderr",
     "output_type": "stream",
     "text": [
      "/Library/Python/2.7/site-packages/IPython/html.py:14: ShimWarning: The `IPython.html` package has been deprecated. You should import from `notebook` instead. `IPython.html.widgets` has moved to `ipywidgets`.\n",
      "  \"`IPython.html.widgets` has moved to `ipywidgets`.\", ShimWarning)\n"
     ]
    }
   ],
   "source": [
    "%matplotlib inline\n",
    "import numpy as np\n",
    "import pandas as pd\n",
    "\n",
    "import matplotlib.pyplot as plt\n",
    "import pylab\n",
    "import seaborn as sn\n",
    "\n",
    "from scipy.stats import skew\n",
    "from scipy.stats.stats import pearsonr\n",
    "\n",
    "train = pd.read_csv('train.csv')\n",
    "test = pd.read_csv('test.csv')\n",
    "\n",
    "all_train = pd.concat((train.loc[:,'MSSubClass':'SaleCondition'],\n",
    "                      test.loc[:,'MSSubClass':'SaleCondition']))\n",
    "# Log the output variable\n",
    "train['SalePrice'] = np.log1p(train['SalePrice'])\n",
    "\n",
    "# Find all skewed features that is > 0.75 and log them\n",
    "numeric_features = all_train.dtypes[all_train.dtypes != \"object\"].index\n",
    "skewed_features = all_train[numeric_features].apply(lambda x: skew(x.dropna()))\n",
    "skewed_features = skewed_features[skewed_features > 0.75].index\n",
    "all_train[skewed_features] = np.log1p(all_train[skewed_features])\n",
    "\n",
    "# Convert categorical features using dummies\n",
    "all_train = pd.get_dummies(all_train)\n",
    "\n",
    "# Fill in missing values with mean\n",
    "all_train = all_train.fillna(all_train.mean())\n",
    "\n",
    "# Replace infinity values with 0\n",
    "all_train = all_train.replace([np.inf, -np.inf], 0)\n",
    "\n",
    "# Split train/test set back to the way it was.\n",
    "x_train = all_train[:train.shape[0]]\n",
    "x_test = all_train[train.shape[0]:]\n",
    "y_train = train['SalePrice']"
   ]
  },
  {
   "cell_type": "code",
   "execution_count": 11,
   "metadata": {
    "collapsed": false
   },
   "outputs": [
    {
     "name": "stdout",
     "output_type": "stream",
     "text": [
      "0.142449452984\n"
     ]
    }
   ],
   "source": [
    "from sklearn.ensemble import ExtraTreesRegressor\n",
    "\n",
    "model_et = ExtraTreesRegressor(n_jobs=16, \\\n",
    "                n_estimators=100, \\\n",
    "                max_features=0.5, \\\n",
    "                max_depth=12, \\\n",
    "                min_samples_leaf=2)\n",
    "et_score = np.sqrt(-cross_val_score(model_et, x_train, y_train, cv=5, scoring=\"neg_mean_squared_error\"))\n",
    "print et_score.mean()\n",
    "\n",
    "# model_et.fit(x_train, y_train)\n",
    "# et_pred = model_et.predict(x_test)\n",
    "\n",
    "# Create a et dataframe to see the prediction.\n",
    "# df_et_pred = pd.DataFrame(np.exp(et_pred), index=test[\"Id\"], columns=[\"SalePrice\"])\n",
    "# print(df_et_pred.head())"
   ]
  },
  {
   "cell_type": "code",
   "execution_count": 9,
   "metadata": {
    "collapsed": false
   },
   "outputs": [
    {
     "name": "stdout",
     "output_type": "stream",
     "text": [
      "\n",
      "mean_test_score:  [ 0.25711406  0.25741291  0.25509643  0.25519212  0.25592618  0.25588829]\n",
      "\n",
      "Params:  ({'n_neighbors': 8}, {'n_neighbors': 9}, {'n_neighbors': 14}, {'n_neighbors': 15}, {'n_neighbors': 20}, {'n_neighbors': 22})\n",
      "\n",
      "Best Parameter is:  {'n_neighbors': 14}\n",
      "\n",
      "Best Score is:  -0.0650741864116 0.255096425713\n"
     ]
    }
   ],
   "source": [
    "from sklearn.neighbors import KNeighborsRegressor\n",
    "from sklearn.model_selection import GridSearchCV, KFold\n",
    "\n",
    "# Grid search to find the best n_neighbors for KNN.\n",
    "parameters = {'n_neighbors':[8, 9, 14, 15, 20, 22]}\n",
    "neigh = KNeighborsRegressor(weights='distance')\n",
    "neigh_grid = GridSearchCV(neigh, parameters, cv=5, verbose=0, n_jobs=2, scoring='neg_mean_squared_error')\n",
    "neigh_grid.fit(x_train, y_train)\n",
    "\n",
    "score = neigh_grid.cv_results_\n",
    "print \"\\nmean_test_score: \", np.sqrt(-score['mean_test_score'])\n",
    "print \"\\nParams: \", score['params']\n",
    "\n",
    "best_param = neigh_grid.best_params_\n",
    "print \"\\nBest Parameter is: \", best_param\n",
    "print \"\\nBest Score is: \", neigh_grid.best_score_, np.sqrt(-neigh_grid.best_score_)\n",
    "\n",
    "# Make prediction on the whole test set.\n",
    "# Use this as input for wrapper (LinearRegression) prediction\n",
    "neigh_pred = neigh_grid.predict(x_test)"
   ]
  },
  {
   "cell_type": "code",
   "execution_count": 10,
   "metadata": {
    "collapsed": true
   },
   "outputs": [],
   "source": [
    "# KNN with KFold. To be used for stacking.\n",
    "folds = KFold(n_splits=3)\n",
    "x_cv = np.array(x_train)\n",
    "y_cv = np.array(y_train)\n",
    "\n",
    "for k, (train_index, validation_index) in enumerate(folds.split(x_train)):\n",
    "#     print \"\\nK: \", k, \"\\nValidation:\", validation_index, \"\\nTRAIN:\", train_index\n",
    "    x_cv_train, x_cv_val = x_cv[train_index], x_cv[validation_index]\n",
    "    y_cv_train, y_cv_val = y_cv[train_index], y_cv[validation_index]\n",
    "    \n",
    "    knn = KNeighborsRegressor(weights='distance', n_neighbors=14)\n",
    "    knn.fit(x_cv_train, y_cv_train)\n",
    "    np.savetxt('model/knn_pred_fold_{}.txt'.format(k), np.exp(knn.predict(x_cv_val)))\n",
    "    np.savetxt('model/knn_test_fold_{}.txt'.format(k), y_cv_val)"
   ]
  },
  {
   "cell_type": "code",
   "execution_count": null,
   "metadata": {
    "collapsed": true
   },
   "outputs": [],
   "source": []
  }
 ],
 "metadata": {
  "kernelspec": {
   "display_name": "Python 2",
   "language": "python",
   "name": "python2"
  },
  "language_info": {
   "codemirror_mode": {
    "name": "ipython",
    "version": 2
   },
   "file_extension": ".py",
   "mimetype": "text/x-python",
   "name": "python",
   "nbconvert_exporter": "python",
   "pygments_lexer": "ipython2",
   "version": "2.7.10"
  }
 },
 "nbformat": 4,
 "nbformat_minor": 2
}
